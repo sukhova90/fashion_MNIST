{
 "cells": [
  {
   "cell_type": "markdown",
   "metadata": {},
   "source": [
    "## Работа с датасетом FMNIST"
   ]
  },
  {
   "cell_type": "code",
   "execution_count": 1,
   "metadata": {},
   "outputs": [],
   "source": [
    "import matplotlib.pyplot as plt\n",
    "import tensorflow as tf\n",
    "import pandas as pd\n",
    "import numpy as np\n",
    "import random\n",
    "import os\n",
    "from sklearn.model_selection import train_test_split\n",
    "\n",
    "from numpy.random import seed\n",
    "seed(42)\n",
    "tf.random.set_seed(42)\n",
    "\n",
    "%matplotlib inline\n",
    "%load_ext tensorboard"
   ]
  },
  {
   "cell_type": "markdown",
   "metadata": {},
   "source": [
    "### 0. Загрузка и подготовка данных"
   ]
  },
  {
   "cell_type": "code",
   "execution_count": 2,
   "metadata": {},
   "outputs": [],
   "source": [
    "# Чтение данных из csv в panda.dataframe\n",
    "\n",
    "fmnist_df_train = pd.read_csv('fashion-mnist_train.csv', sep=',', header=None, low_memory=False)\n",
    "fmnist_df_test = pd.read_csv('fashion-mnist_test.csv', sep=',', header=None, low_memory=False)"
   ]
  },
  {
   "cell_type": "code",
   "execution_count": 3,
   "metadata": {},
   "outputs": [],
   "source": [
    "# Выделение x и y компонент в формате np.array\n",
    "\n",
    "df_train = fmnist_df_train.iloc[1:].astype(int)\n",
    "y_train = df_train[0].values\n",
    "x_train = df_train.drop([0], axis=1).values\n",
    "\n",
    "df_test = fmnist_df_test.iloc[1:].astype(int)\n",
    "y_test = df_test[0].values\n",
    "x_test = df_test.drop([0], axis=1).values"
   ]
  },
  {
   "cell_type": "code",
   "execution_count": 4,
   "metadata": {
    "scrolled": false
   },
   "outputs": [
    {
     "data": {
      "image/png": "[encoded data removed]",
      "text/plain": [
       "<Figure size 432x288 with 1 Axes>"
      ]
     },
     "metadata": {
      "needs_background": "light"
     },
     "output_type": "display_data"
    }
   ],
   "source": [
    "# Пример изображения из датасета FMNIST\n",
    "\n",
    "data = x_train[random.randint(0, x_train.shape[0])]\n",
    "data = np.asarray(data).reshape([28, 28])\n",
    "plt.imshow(data, cmap='gray')\n",
    "plt.show()"
   ]
  },
  {
   "cell_type": "code",
   "execution_count": 5,
   "metadata": {},
   "outputs": [],
   "source": [
    "# Нормализация x и перевод y в one-hot (категориальное) представление\n",
    "\n",
    "x_train = x_train / 255\n",
    "x_test = x_test / 255\n",
    "\n",
    "num_classes = 10\n",
    "y_train = tf.keras.utils.to_categorical(y_train, num_classes)\n",
    "y_test = tf.keras.utils.to_categorical(y_test, num_classes)"
   ]
  },
  {
   "cell_type": "code",
   "execution_count": 6,
   "metadata": {},
   "outputs": [],
   "source": [
    "# Выделение валидационной выборки\n",
    "\n",
    "x_train, x_valid, y_train, y_valid = train_test_split(\n",
    "x_train, y_train,\n",
    "test_size=0.2, random_state=12\n",
    ")"
   ]
  },
  {
   "cell_type": "markdown",
   "metadata": {},
   "source": [
    "### 1. Логистическая регрессия"
   ]
  },
  {
   "cell_type": "code",
   "execution_count": 7,
   "metadata": {},
   "outputs": [],
   "source": [
    "# Модель логистической регрессии (для выполнения обучения заново раскомментируйте ячейку)\n",
    "\n",
    "# def sgd():\n",
    "#     model = tf.keras.models.Sequential([\n",
    "#         tf.keras.layers.Flatten(),\n",
    "#         tf.keras.layers.Dense(10, activation='softmax')\n",
    "#     ])\n",
    "\n",
    "#     model.compile(optimizer='sgd',\n",
    "#     loss='categorical_crossentropy',\n",
    "#     metrics=['accuracy'])\n",
    "#     return model"
   ]
  },
  {
   "cell_type": "code",
   "execution_count": 8,
   "metadata": {},
   "outputs": [],
   "source": [
    "# Параметры для TensorBoard (для выполнения обучения заново раскомментируйте ячейку)\n",
    "\n",
    "# logdir_1 = \"logs\\sgd\\\\\"\n",
    "# tensorboard_callback_1 = tf.keras.callbacks.TensorBoard(log_dir=logdir_1)"
   ]
  },
  {
   "cell_type": "code",
   "execution_count": 9,
   "metadata": {},
   "outputs": [],
   "source": [
    "# Запуск обучения модели (для выполнения обучения заново раскомментируйте ячейку)\n",
    "\n",
    "# model_1 = sgd()\n",
    "\n",
    "# training_history_1 = model_1.fit(\n",
    "#     x_train,\n",
    "#     y_train,\n",
    "#     verbose=0,\n",
    "#     epochs=100,\n",
    "#     validation_data=(x_valid, y_valid),\n",
    "#     callbacks=[tensorboard_callback_1],\n",
    "# )"
   ]
  },
  {
   "cell_type": "code",
   "execution_count": 10,
   "metadata": {},
   "outputs": [
    {
     "name": "stdout",
     "output_type": "stream",
     "text": [
      "10000/10000 [==============================] - 0s 31us/sample - loss: 0.4198 - accuracy: 0.8597\n"
     ]
    },
    {
     "data": {
      "text/plain": [
       "0.8597"
      ]
     },
     "execution_count": 10,
     "metadata": {},
     "output_type": "execute_result"
    }
   ],
   "source": [
    "# Оценка качества модели на тестовой выборке (загружается сохраненная модель)\n",
    "\n",
    "cwd = os.getcwd()\n",
    "model_1 = tf.keras.models.load_model(os.path.join(cwd, 'models\\sgd\\\\'))\n",
    "_, sgd_acc = model_1.evaluate(x_test, y_test)\n",
    "sgd_acc"
   ]
  },
  {
   "cell_type": "code",
   "execution_count": 11,
   "metadata": {
    "scrolled": false
   },
   "outputs": [
    {
     "data": {
      "text/plain": [
       "ERROR: Timed out waiting for TensorBoard to start. It may still be running as pid 6116."
      ]
     },
     "metadata": {},
     "output_type": "display_data"
    }
   ],
   "source": [
    "# График зависимости качества модели на валидационной выборке от количества эпох\n",
    "# Может не запуститься с первого раза, в таком случае запустите эту ячейку еще раз\n",
    "\n",
    "%tensorboard --logdir logs/"
   ]
  },
  {
   "cell_type": "markdown",
   "metadata": {},
   "source": [
    "Для логистической регрессии качество на валидационных данных составило 0.851, на тестовых - 0.860."
   ]
  },
  {
   "cell_type": "markdown",
   "metadata": {},
   "source": [
    "### 2. Полносвязная нейронная сеть"
   ]
  },
  {
   "cell_type": "code",
   "execution_count": 12,
   "metadata": {},
   "outputs": [],
   "source": [
    "# Модель полносвязной нейронной сети (для выполнения обучения заново раскомментируйте ячейку)\n",
    "\n",
    "# def neural_network(input_shape):\n",
    "#     model = tf.keras.models.Sequential()\n",
    "#     model.add(tf.keras.layers.Dense(512, activation='relu', input_shape=input_shape))\n",
    "#     model.add(tf.keras.layers.Dropout(0.2))\n",
    "#     model.add(tf.keras.layers.Dense(512, activation='relu'))\n",
    "#     model.add(tf.keras.layers.Dropout(0.2))    \n",
    "#     model.add(tf.keras.layers.Dense(256, activation='relu'))\n",
    "#     model.add(tf.keras.layers.Dropout(0.2))\n",
    "#     model.add(tf.keras.layers.Dense(10, activation='softmax'))\n",
    "#     model.compile(loss='categorical_crossentropy', \n",
    "#                   optimizer='adadelta',\n",
    "#                   metrics=['accuracy'])\n",
    "#     return model"
   ]
  },
  {
   "cell_type": "code",
   "execution_count": 13,
   "metadata": {},
   "outputs": [],
   "source": [
    "# Параметры для TensorBoard (для выполнения обучения заново раскомментируйте ячейку)\n",
    "\n",
    "# logdir_2 = \"logs\\\\neural_network\\\\\"\n",
    "# tensorboard_callback_2 = tf.keras.callbacks.TensorBoard(log_dir=logdir_2)"
   ]
  },
  {
   "cell_type": "code",
   "execution_count": 14,
   "metadata": {
    "scrolled": false
   },
   "outputs": [],
   "source": [
    "# Запуск обучения модели (для выполнения обучения заново раскомментируйте ячейку)\n",
    "\n",
    "# model_2 = neural_network((784,))\n",
    "\n",
    "# training_history_2 = model_2.fit(\n",
    "#     x_train,\n",
    "#     y_train,\n",
    "#     verbose=0,\n",
    "#     epochs=100,\n",
    "#     validation_data=(x_valid, y_valid),\n",
    "#     callbacks=[tensorboard_callback_2],\n",
    "# )"
   ]
  },
  {
   "cell_type": "code",
   "execution_count": 15,
   "metadata": {},
   "outputs": [
    {
     "name": "stdout",
     "output_type": "stream",
     "text": [
      "10000/10000 [==============================] - 1s 69us/sample - loss: 0.4335 - accuracy: 0.8500\n"
     ]
    },
    {
     "data": {
      "text/plain": [
       "0.85"
      ]
     },
     "execution_count": 15,
     "metadata": {},
     "output_type": "execute_result"
    }
   ],
   "source": [
    "# Оценка качества модели на тестовой выборке (загружается сохраненная модель)\n",
    "\n",
    "model_2 = tf.keras.models.load_model(os.path.join(cwd, 'models\\\\neural_network'))\n",
    "_, nn_acc = model_2.evaluate(x_test, y_test)\n",
    "nn_acc"
   ]
  },
  {
   "cell_type": "code",
   "execution_count": 16,
   "metadata": {
    "scrolled": false
   },
   "outputs": [
    {
     "data": {
      "text/plain": [
       "Reusing TensorBoard on port 6006 (pid 8940), started 0:00:58 ago. (Use '!kill 8940' to kill it.)"
      ]
     },
     "metadata": {},
     "output_type": "display_data"
    },
    {
     "data": {
      "text/html": [
       "\n",
       "      <iframe id=\"tensorboard-frame-e0a647de5462ea45\" width=\"100%\" height=\"800\" frameborder=\"0\">\n",
       "      </iframe>\n",
       "      <script>\n",
       "        (function() {\n",
       "          const frame = document.getElementById(\"tensorboard-frame-e0a647de5462ea45\");\n",
       "          const url = new URL(\"/\", window.location);\n",
       "          const port = 6006;\n",
       "          if (port) {\n",
       "            url.port = port;\n",
       "          }\n",
       "          frame.src = url;\n",
       "        })();\n",
       "      </script>\n",
       "    "
      ],
      "text/plain": [
       "<IPython.core.display.HTML object>"
      ]
     },
     "metadata": {},
     "output_type": "display_data"
    }
   ],
   "source": [
    "# График зависимости качества модели на валидационной выборке от количества эпох\n",
    "# Может не запуститься с первого раза, в таком случае запустите эту ячейку еще раз\n",
    "\n",
    "%tensorboard --logdir logs/"
   ]
  },
  {
   "cell_type": "markdown",
   "metadata": {},
   "source": [
    "Качество полносвязной нейронной сети на валидационных данных - 0.842, на тестовых - 0.850. Это немного ниже, чем качество модели с логистической регрессией. Но по графику качества для модели с логистическое регрессией видно, что к 100 эпохам начинает наступать переобучение. График качества модели полносвязной нейронной сети демонстрирует рост, то есть при увелечении количества эпох качество модели будет продолжать расти. Также, для обучения полносвязной нейросети требуется большее количество данных, чем для обучения логистической регрессии, поэтому с увеличением количества тренировочных данных качество модели полносвязной нейронной сети должно вырасти."
   ]
  },
  {
   "cell_type": "markdown",
   "metadata": {},
   "source": [
    "### 3. Сверточная нейронная сеть"
   ]
  },
  {
   "cell_type": "code",
   "execution_count": 17,
   "metadata": {},
   "outputs": [],
   "source": [
    "# Подготовка данных (для выполнения обучения заново раскомментируйте ячейку)\n",
    "\n",
    "x_train = x_train.reshape(int(60000 * 0.8), 28, 28, 1)\n",
    "x_test = x_test.reshape(10000, 28, 28, 1)\n",
    "x_valid = x_valid.reshape(int(60000 * 0.2), 28, 28, 1)"
   ]
  },
  {
   "cell_type": "markdown",
   "metadata": {},
   "source": [
    "### 3.1 Сверточная сеть № 1"
   ]
  },
  {
   "cell_type": "code",
   "execution_count": 18,
   "metadata": {},
   "outputs": [],
   "source": [
    "# Модель сверточной нейронной сети № 1 (для выполнения обучения заново раскомментируйте ячейку)\n",
    "\n",
    "# def conv_net_1(input_shape):\n",
    "#     model = tf.keras.models.Sequential()\n",
    "#     model.add(tf.keras.layers.Convolution2D(32, (3,3), input_shape=input_shape, activation='relu'))\n",
    "#     model.add(tf.keras.layers.MaxPooling2D((2,2)))\n",
    "#     model.add(tf.keras.layers.Convolution2D(64, (3,3), activation='relu'))\n",
    "#     model.add(tf.keras.layers.MaxPooling2D((2,2)))\n",
    "#     model.add(tf.keras.layers.Flatten())\n",
    "#     model.add(tf.keras.layers.Dense(64, activation='relu'))\n",
    "#     model.add(tf.keras.layers.Dense(10, activation='softmax'))\n",
    "#     model.compile(loss='categorical_crossentropy', \n",
    "#                   optimizer= 'adadelta', \n",
    "#                   metrics=['accuracy'])\n",
    "#     return model"
   ]
  },
  {
   "cell_type": "code",
   "execution_count": 19,
   "metadata": {},
   "outputs": [],
   "source": [
    "# Параметры для TensorBoard (для выполнения обучения заново раскомментируйте ячейку)\n",
    "\n",
    "# logdir_3_1 = \"logs\\convolution_network_1\\\\\"\n",
    "# tensorboard_callback_3_1 = tf.keras.callbacks.TensorBoard(log_dir=logdir_3_1)"
   ]
  },
  {
   "cell_type": "code",
   "execution_count": 20,
   "metadata": {},
   "outputs": [],
   "source": [
    "# Запуск обучения модели (для выполнения обучения заново раскомментируйте ячейку)\n",
    "\n",
    "# model_3_1 = conv_net_1((28, 28, 1))\n",
    "\n",
    "# training_history_3_1 = model_3_1.fit(\n",
    "#     x_train,\n",
    "#     y_train,\n",
    "#     verbose=0,\n",
    "#     epochs=100,\n",
    "#     validation_data=(x_valid, y_valid),\n",
    "#     callbacks=[tensorboard_callback_3_1],\n",
    "# )"
   ]
  },
  {
   "cell_type": "code",
   "execution_count": 21,
   "metadata": {},
   "outputs": [
    {
     "name": "stdout",
     "output_type": "stream",
     "text": [
      "10000/10000 [==============================] - 1s 148us/sample - loss: 0.5369 - accuracy: 0.8051\n"
     ]
    },
    {
     "data": {
      "text/plain": [
       "0.8051"
      ]
     },
     "execution_count": 21,
     "metadata": {},
     "output_type": "execute_result"
    }
   ],
   "source": [
    "# Оценка качества модели на тестовой выборке (загружается сохраненная модель)\n",
    "\n",
    "model_3_1 = tf.keras.models.load_model(os.path.join(cwd, 'models\\convolution_network_1'))\n",
    "_, cn_1_acc = model_3_1.evaluate(x_test, y_test)\n",
    "cn_1_acc"
   ]
  },
  {
   "cell_type": "code",
   "execution_count": 22,
   "metadata": {
    "scrolled": false
   },
   "outputs": [
    {
     "data": {
      "text/plain": [
       "Reusing TensorBoard on port 6006 (pid 8940), started 0:01:01 ago. (Use '!kill 8940' to kill it.)"
      ]
     },
     "metadata": {},
     "output_type": "display_data"
    },
    {
     "data": {
      "text/html": [
       "\n",
       "      <iframe id=\"tensorboard-frame-84f50cb221b260c4\" width=\"100%\" height=\"800\" frameborder=\"0\">\n",
       "      </iframe>\n",
       "      <script>\n",
       "        (function() {\n",
       "          const frame = document.getElementById(\"tensorboard-frame-84f50cb221b260c4\");\n",
       "          const url = new URL(\"/\", window.location);\n",
       "          const port = 6006;\n",
       "          if (port) {\n",
       "            url.port = port;\n",
       "          }\n",
       "          frame.src = url;\n",
       "        })();\n",
       "      </script>\n",
       "    "
      ],
      "text/plain": [
       "<IPython.core.display.HTML object>"
      ]
     },
     "metadata": {},
     "output_type": "display_data"
    }
   ],
   "source": [
    "# График зависимости качества модели на валидационной выборке от количества эпох\n",
    "# Может не запуститься с первого раза, в таком случае запустите эту ячейку еще раз\n",
    "\n",
    "%tensorboard --logdir logs/"
   ]
  },
  {
   "cell_type": "markdown",
   "metadata": {},
   "source": [
    "Для сверточной нейронной сети качество на валидационных данных составило 0.799, на тестовых - 0.805, что ниже качества модели полносвязной нейронной сети. "
   ]
  },
  {
   "cell_type": "markdown",
   "metadata": {},
   "source": [
    "### 3.2 Сверточная сеть № 2"
   ]
  },
  {
   "cell_type": "markdown",
   "metadata": {},
   "source": [
    "Добавлены дополнительные сверточные слои."
   ]
  },
  {
   "cell_type": "code",
   "execution_count": 23,
   "metadata": {},
   "outputs": [],
   "source": [
    "# Модель сверточной нейронной сети № 2 (для выполнения обучения заново раскомментируйте ячейку)\n",
    "\n",
    "# def conv_net_2(input_shape):\n",
    "#     model = tf.keras.models.Sequential()\n",
    "#     model.add(tf.keras.layers.Convolution2D(32, (3,3), input_shape=input_shape, activation='relu'))\n",
    "#     model.add(tf.keras.layers.MaxPooling2D((2,2)))\n",
    "#     model.add(tf.keras.layers.Convolution2D(64, (3,3), activation='relu'))\n",
    "#     model.add(tf.keras.layers.MaxPooling2D((2,2)))\n",
    "#     model.add(tf.keras.layers.Convolution2D(64, (3,3), activation='relu'))\n",
    "#     model.add(tf.keras.layers.Convolution2D(64, (3,3), activation='relu'))\n",
    "#     model.add(tf.keras.layers.Flatten())\n",
    "#     model.add(tf.keras.layers.Dense(64, activation='relu'))\n",
    "#     model.add(tf.keras.layers.Dense(10, activation='softmax'))\n",
    "#     model.compile(loss='categorical_crossentropy', \n",
    "#                   optimizer= 'adadelta', \n",
    "#                   metrics=['accuracy'])\n",
    "#     return model"
   ]
  },
  {
   "cell_type": "code",
   "execution_count": 24,
   "metadata": {},
   "outputs": [],
   "source": [
    "# Параметры для TensorBoard (для выполнения обучения заново раскомментируйте ячейку)\n",
    "\n",
    "# logdir_3_2 = \"logs\\convolution_network_2\\\\\"\n",
    "# tensorboard_callback_3_2 = tf.keras.callbacks.TensorBoard(log_dir=logdir_3_2)"
   ]
  },
  {
   "cell_type": "code",
   "execution_count": 25,
   "metadata": {},
   "outputs": [],
   "source": [
    "# Запуск обучения модели (для выполнения обучения заново раскомментируйте ячейку)\n",
    "\n",
    "# model_3_2 = conv_net_2((28, 28, 1))\n",
    "\n",
    "# training_history_3_2 = model_3_2.fit(\n",
    "#     x_train,\n",
    "#     y_train,\n",
    "#     verbose=0,\n",
    "#     epochs=100,\n",
    "#     validation_data=(x_valid, y_valid),\n",
    "#     callbacks=[tensorboard_callback_3_2],\n",
    "# )"
   ]
  },
  {
   "cell_type": "code",
   "execution_count": 26,
   "metadata": {},
   "outputs": [
    {
     "name": "stdout",
     "output_type": "stream",
     "text": [
      "10000/10000 [==============================] - 2s 171us/sample - loss: 0.6314 - accuracy: 0.7689\n"
     ]
    },
    {
     "data": {
      "text/plain": [
       "0.7689"
      ]
     },
     "execution_count": 26,
     "metadata": {},
     "output_type": "execute_result"
    }
   ],
   "source": [
    "# Оценка качества модели на тестовой выборке (загружается сохраненная модель)\n",
    "\n",
    "model_3_2 = tf.keras.models.load_model(os.path.join(cwd, 'models\\convolution_network_2'))\n",
    "_, cn_2_acc = model_3_2.evaluate(x_test, y_test)\n",
    "cn_2_acc"
   ]
  },
  {
   "cell_type": "code",
   "execution_count": 27,
   "metadata": {},
   "outputs": [
    {
     "data": {
      "text/plain": [
       "Reusing TensorBoard on port 6006 (pid 8940), started 0:01:04 ago. (Use '!kill 8940' to kill it.)"
      ]
     },
     "metadata": {},
     "output_type": "display_data"
    },
    {
     "data": {
      "text/html": [
       "\n",
       "      <iframe id=\"tensorboard-frame-f604a7222b97b637\" width=\"100%\" height=\"800\" frameborder=\"0\">\n",
       "      </iframe>\n",
       "      <script>\n",
       "        (function() {\n",
       "          const frame = document.getElementById(\"tensorboard-frame-f604a7222b97b637\");\n",
       "          const url = new URL(\"/\", window.location);\n",
       "          const port = 6006;\n",
       "          if (port) {\n",
       "            url.port = port;\n",
       "          }\n",
       "          frame.src = url;\n",
       "        })();\n",
       "      </script>\n",
       "    "
      ],
      "text/plain": [
       "<IPython.core.display.HTML object>"
      ]
     },
     "metadata": {},
     "output_type": "display_data"
    }
   ],
   "source": [
    "# График зависимости качества модели на валидационной выборке от количества эпох\n",
    "# Может не запуститься с первого раза, в таком случае запустите эту ячейку еще раз\n",
    "\n",
    "%tensorboard --logdir logs/"
   ]
  },
  {
   "cell_type": "markdown",
   "metadata": {},
   "source": [
    "С добавлением дополнительных сверточных слоев качество модели снизилось, и на валидационных данных составило 0.756, на тестовых - 0.769."
   ]
  },
  {
   "cell_type": "markdown",
   "metadata": {},
   "source": [
    "### 3.3 Сверточная сеть № 3"
   ]
  },
  {
   "cell_type": "markdown",
   "metadata": {},
   "source": [
    "Добавлены слои batch-нормализации."
   ]
  },
  {
   "cell_type": "code",
   "execution_count": 28,
   "metadata": {},
   "outputs": [],
   "source": [
    "# Модель сверточной нейронной сети № 3 (для выполнения обучения заново раскомментируйте ячейку)\n",
    "\n",
    "# def conv_net_3(input_shape):\n",
    "#     model = tf.keras.models.Sequential()\n",
    "#     model.add(tf.keras.layers.Convolution2D(32, (3,3), input_shape=input_shape, activation='relu'))\n",
    "#     model.add(tf.keras.layers.BatchNormalization()),\n",
    "#     model.add(tf.keras.layers.MaxPooling2D((2,2)))\n",
    "#     model.add(tf.keras.layers.Convolution2D(64, (3,3), activation='relu'))\n",
    "#     model.add(tf.keras.layers.BatchNormalization()),\n",
    "#     model.add(tf.keras.layers.MaxPooling2D((2,2)))\n",
    "#     model.add(tf.keras.layers.Convolution2D(64, (3,3), activation='relu'))\n",
    "#     model.add(tf.keras.layers.BatchNormalization()),\n",
    "#     model.add(tf.keras.layers.Convolution2D(64, (3,3), activation='relu'))\n",
    "#     model.add(tf.keras.layers.BatchNormalization()),\n",
    "#     model.add(tf.keras.layers.Flatten())\n",
    "#     model.add(tf.keras.layers.Dense(64, activation='relu'))\n",
    "#     model.add(tf.keras.layers.BatchNormalization()),\n",
    "#     model.add(tf.keras.layers.Dense(10, activation='softmax'))\n",
    "#     model.compile(loss='categorical_crossentropy', \n",
    "#                   optimizer= 'adadelta', \n",
    "#                   metrics=['accuracy'])\n",
    "#     return model"
   ]
  },
  {
   "cell_type": "code",
   "execution_count": 29,
   "metadata": {},
   "outputs": [],
   "source": [
    "# Параметры для TensorBoard (для выполнения обучения заново раскомментируйте ячейку)\n",
    "\n",
    "# logdir_3_3 = \"logs\\convolution_network_3\\\\\"\n",
    "# tensorboard_callback_3_3 = tf.keras.callbacks.TensorBoard(log_dir=logdir_3_3)"
   ]
  },
  {
   "cell_type": "code",
   "execution_count": 30,
   "metadata": {},
   "outputs": [],
   "source": [
    "# Запуск обучения модели (для выполнения обучения заново раскомментируйте ячейку)\n",
    "\n",
    "# model_3_3 = conv_net_3((28, 28, 1))\n",
    "\n",
    "# training_history_3_3 = model_3_3.fit(\n",
    "#     x_train,\n",
    "#     y_train,\n",
    "#     verbose=0,\n",
    "#     epochs=100,\n",
    "#     validation_data=(x_valid, y_valid),\n",
    "#     callbacks=[tensorboard_callback_3_3],\n",
    "# )"
   ]
  },
  {
   "cell_type": "code",
   "execution_count": 31,
   "metadata": {},
   "outputs": [
    {
     "name": "stdout",
     "output_type": "stream",
     "text": [
      "10000/10000 [==============================] - 2s 170us/sample - loss: 0.3729 - accuracy: 0.8766\n"
     ]
    },
    {
     "data": {
      "text/plain": [
       "0.8766"
      ]
     },
     "execution_count": 31,
     "metadata": {},
     "output_type": "execute_result"
    }
   ],
   "source": [
    "# Оценка качества модели на тестовой выборке (загружается сохраненная модель)\n",
    "\n",
    "model_3_3 = tf.keras.models.load_model(os.path.join(cwd, 'models\\convolution_network_3'))\n",
    "_, cn_3_acc = model_3_3.evaluate(x_test, y_test)\n",
    "cn_3_acc"
   ]
  },
  {
   "cell_type": "code",
   "execution_count": 32,
   "metadata": {
    "scrolled": false
   },
   "outputs": [
    {
     "data": {
      "text/plain": [
       "Reusing TensorBoard on port 6006 (pid 8940), started 0:01:11 ago. (Use '!kill 8940' to kill it.)"
      ]
     },
     "metadata": {},
     "output_type": "display_data"
    },
    {
     "data": {
      "text/html": [
       "\n",
       "      <iframe id=\"tensorboard-frame-36ffeb38824e7cd6\" width=\"100%\" height=\"800\" frameborder=\"0\">\n",
       "      </iframe>\n",
       "      <script>\n",
       "        (function() {\n",
       "          const frame = document.getElementById(\"tensorboard-frame-36ffeb38824e7cd6\");\n",
       "          const url = new URL(\"/\", window.location);\n",
       "          const port = 6006;\n",
       "          if (port) {\n",
       "            url.port = port;\n",
       "          }\n",
       "          frame.src = url;\n",
       "        })();\n",
       "      </script>\n",
       "    "
      ],
      "text/plain": [
       "<IPython.core.display.HTML object>"
      ]
     },
     "metadata": {},
     "output_type": "display_data"
    }
   ],
   "source": [
    "# График зависимости качества модели на валидационной выборке от количества эпох\n",
    "# Может не запуститься с первого раза, в таком случае запустите эту ячейку еще раз\n",
    "\n",
    "%tensorboard --logdir logs/"
   ]
  },
  {
   "cell_type": "markdown",
   "metadata": {},
   "source": [
    "Добавление слоев batch-нормализации значительно повысило качество модели: на валидационных данных качество составило 0.866, на тестовых - 0.877, что является лучшим результатом среди всех представленных моделей."
   ]
  },
  {
   "cell_type": "markdown",
   "metadata": {},
   "source": [
    "### 4. Итоги"
   ]
  },
  {
   "cell_type": "code",
   "execution_count": 33,
   "metadata": {},
   "outputs": [
    {
     "data": {
      "text/html": [
       "<div>\n",
       "<style scoped>\n",
       "    .dataframe tbody tr th:only-of-type {\n",
       "        vertical-align: middle;\n",
       "    }\n",
       "\n",
       "    .dataframe tbody tr th {\n",
       "        vertical-align: top;\n",
       "    }\n",
       "\n",
       "    .dataframe thead th {\n",
       "        text-align: right;\n",
       "    }\n",
       "</style>\n",
       "<table border=\"1\" class=\"dataframe\">\n",
       "  <thead>\n",
       "    <tr style=\"text-align: right;\">\n",
       "      <th></th>\n",
       "      <th>Accuracy</th>\n",
       "    </tr>\n",
       "  </thead>\n",
       "  <tbody>\n",
       "    <tr>\n",
       "      <th>convolution_network_3</th>\n",
       "      <td>0.8766</td>\n",
       "    </tr>\n",
       "    <tr>\n",
       "      <th>sgd</th>\n",
       "      <td>0.8597</td>\n",
       "    </tr>\n",
       "    <tr>\n",
       "      <th>neural_network</th>\n",
       "      <td>0.8500</td>\n",
       "    </tr>\n",
       "    <tr>\n",
       "      <th>convolution_network_1</th>\n",
       "      <td>0.8051</td>\n",
       "    </tr>\n",
       "    <tr>\n",
       "      <th>convolution_network_2</th>\n",
       "      <td>0.7689</td>\n",
       "    </tr>\n",
       "  </tbody>\n",
       "</table>\n",
       "</div>"
      ],
      "text/plain": [
       "                       Accuracy\n",
       "convolution_network_3    0.8766\n",
       "sgd                      0.8597\n",
       "neural_network           0.8500\n",
       "convolution_network_1    0.8051\n",
       "convolution_network_2    0.7689"
      ]
     },
     "execution_count": 33,
     "metadata": {},
     "output_type": "execute_result"
    }
   ],
   "source": [
    "# Рейтинг моделей по качеству на тестовых данных\n",
    "\n",
    "acc = {'sgd': sgd_acc,\n",
    "       'neural_network': nn_acc, \n",
    "       'convolution_network_1': cn_1_acc, \n",
    "       'convolution_network_2': cn_2_acc, \n",
    "       'convolution_network_3': cn_3_acc}\n",
    "\n",
    "scores = pd.DataFrame([acc]).T\n",
    "scores.columns = ['Accuracy']\n",
    "scores = scores.sort_values('Accuracy', ascending=False)\n",
    "scores"
   ]
  }
 ],
 "metadata": {
  "kernelspec": {
   "display_name": "Python 3",
   "language": "python",
   "name": "python3"
  },
  "language_info": {
   "codemirror_mode": {
    "name": "ipython",
    "version": 3
   },
   "file_extension": ".py",
   "mimetype": "text/x-python",
   "name": "python",
   "nbconvert_exporter": "python",
   "pygments_lexer": "ipython3",
   "version": "3.6.12"
  }
 },
 "nbformat": 4,
 "nbformat_minor": 4
}
